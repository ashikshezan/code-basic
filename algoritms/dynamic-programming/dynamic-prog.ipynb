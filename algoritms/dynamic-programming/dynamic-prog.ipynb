{
 "cells": [
  {
   "source": [
    "# Nth Fibonacchi problem  \n",
    "The following one is a very simple and very bad approach to impliment the Nth fib problem\n",
    "take O(n^2)"
   ],
   "cell_type": "markdown",
   "metadata": {}
  },
  {
   "cell_type": "code",
   "execution_count": 3,
   "metadata": {},
   "outputs": [
    {
     "output_type": "stream",
     "name": "stdout",
     "text": [
      "8\n13\n832040\n"
     ]
    }
   ],
   "source": [
    "\n",
    "def fib(n):\n",
    "    if n <= 2:\n",
    "        return 1\n",
    "    return fib(n-1) + fib(n-2)\n",
    "\n",
    "print(fib(6))\n",
    "print(fib(7))\n",
    "print(fib(30))\n"
   ]
  },
  {
   "source": [
    "## Nth fib with Memoization\n",
    "\n",
    "Time = O(n)\n",
    "\n",
    "Space = O(n)"
   ],
   "cell_type": "markdown",
   "metadata": {}
  },
  {
   "cell_type": "code",
   "execution_count": 1,
   "metadata": {},
   "outputs": [
    {
     "output_type": "stream",
     "name": "stdout",
     "text": [
      "8\n13\n354224848179261915075\n"
     ]
    }
   ],
   "source": [
    "def optimized_fib(n, memo = dict()):\n",
    "    if n in memo: return memo[n]\n",
    "    if n <= 2: return 1\n",
    "    memo[n] = optimized_fib(n-1) + optimized_fib(n-2)\n",
    "    return memo[n]\n",
    "\n",
    "print(optimized_fib(6))\n",
    "print(optimized_fib(7))\n",
    "print(optimized_fib(100))"
   ]
  },
  {
   "source": [
    "# Grid Traveler problem"
   ],
   "cell_type": "markdown",
   "metadata": {}
  },
  {
   "cell_type": "code",
   "execution_count": 2,
   "metadata": {},
   "outputs": [
    {
     "output_type": "stream",
     "name": "stdout",
     "text": [
      "2333606220\n"
     ]
    }
   ],
   "source": [
    "def grid_traveler(row, col, memo = dict()):\n",
    "    if (row, col) in memo: return memo[(row,col)] \n",
    "    if row == 1 and col == 1: return 1\n",
    "    if row == 0 or col == 0: return 0\n",
    "\n",
    "    memo[(row, col)] = grid_traveler(row-1, col) + grid_traveler(row, col-1)\n",
    "    return memo[(row,col)]\n",
    "print (grid_traveler(18,18))\n"
   ]
  },
  {
   "source": [
    "# Can Sum "
   ],
   "cell_type": "markdown",
   "metadata": {}
  },
  {
   "cell_type": "code",
   "execution_count": 24,
   "metadata": {
    "tags": []
   },
   "outputs": [
    {
     "output_type": "stream",
     "name": "stdout",
     "text": [
      "True\n"
     ]
    }
   ],
   "source": [
    "def can_sum(target_sum, nums, memo = dict()):\n",
    "    if target_sum in memo: return memo[target_sum]\n",
    "    if target_sum == 0: return True\n",
    "    if target_sum < 0: return False\n",
    "\n",
    "    for i in nums:\n",
    "        reminder = int()\n",
    "        reminder = target_sum - i\n",
    "        if can_sum(reminder, nums): \n",
    "            memo[reminder] = True\n",
    "            return True\n",
    "    memo[target_sum] = False\n",
    "    return False\n",
    "\n",
    "print(can_sum(7, [2,3]))"
   ]
  },
  {
   "source": [
    "# Have Sum"
   ],
   "cell_type": "markdown",
   "metadata": {}
  },
  {
   "cell_type": "code",
   "execution_count": 45,
   "metadata": {},
   "outputs": [
    {
     "output_type": "stream",
     "name": "stdout",
     "text": [
      "None\n"
     ]
    }
   ],
   "source": [
    "def how_some(target_sum, nums, path = [], memo = {}):\n",
    "\n",
    "    if target_sum in memo: return memo[target_sum] \n",
    "    if target_sum == 0: return path\n",
    "    if target_sum < 0: return None\n",
    "    \n",
    "    for i in nums:\n",
    "        reminder = target_sum - i\n",
    "        result_path = how_some(reminder, nums)\n",
    "        if result_path is not None:\n",
    "            path.append(i) \n",
    "            memo[target_sum] = path\n",
    "            return memo[target_sum]\n",
    "    memo[target_sum] = None\n",
    "    return None\n",
    "\n",
    "\n",
    "# print(how_some(7 , [2, 3]))\n",
    "print(how_some(300 , [ 7, 14 ]))\n"
   ]
  }
 ],
 "metadata": {
  "kernelspec": {
   "display_name": "Python 3.8.6 64-bit",
   "language": "python",
   "name": "python38664bit619dc6617ca7413bb4211c211e8f2322"
  },
  "language_info": {
   "codemirror_mode": {
    "name": "ipython",
    "version": 3
   },
   "file_extension": ".py",
   "mimetype": "text/x-python",
   "name": "python",
   "nbconvert_exporter": "python",
   "pygments_lexer": "ipython3",
   "version": "3.8.6-final"
  }
 },
 "nbformat": 4,
 "nbformat_minor": 4
}